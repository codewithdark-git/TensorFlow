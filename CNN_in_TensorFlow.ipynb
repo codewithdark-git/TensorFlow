{
  "nbformat": 4,
  "nbformat_minor": 0,
  "metadata": {
    "colab": {
      "provenance": [],
      "authorship_tag": "ABX9TyOfWY8F65Js7Bdv9oWVsQXY",
      "include_colab_link": true
    },
    "kernelspec": {
      "name": "python3",
      "display_name": "Python 3"
    },
    "language_info": {
      "name": "python"
    }
  },
  "cells": [
    {
      "cell_type": "markdown",
      "metadata": {
        "id": "view-in-github",
        "colab_type": "text"
      },
      "source": [
        "<a href=\"https://colab.research.google.com/github/codewithdark-git/TensorFlow/blob/main/CNN_in_TensorFlow.ipynb\" target=\"_parent\"><img src=\"https://colab.research.google.com/assets/colab-badge.svg\" alt=\"Open In Colab\"/></a>"
      ]
    },
    {
      "cell_type": "code",
      "execution_count": 1,
      "metadata": {
        "id": "K9nLroYjCDL3"
      },
      "outputs": [],
      "source": [
        "import tensorflow as tf\n",
        "from tensorflow import keras\n",
        "from tensorflow.keras.layers import Dense, Dropout, Activation, Flatten, Conv2D, MaxPooling2D\n",
        "from tensorflow.keras import layers\n",
        "from tensorflow.keras.datasets import cifar10\n",
        "import pickle"
      ]
    },
    {
      "cell_type": "code",
      "source": [
        "(X_train, y_train), (X_test, y_test) = cifar10.load_data()"
      ],
      "metadata": {
        "id": "DksZx9qGCxAx",
        "colab": {
          "base_uri": "https://localhost:8080/"
        },
        "outputId": "19d0ee6b-d7bc-4832-e88a-34ab9f8039c2"
      },
      "execution_count": 2,
      "outputs": [
        {
          "output_type": "stream",
          "name": "stdout",
          "text": [
            "Downloading data from https://www.cs.toronto.edu/~kriz/cifar-10-python.tar.gz\n",
            "\u001b[1m170498071/170498071\u001b[0m \u001b[32m━━━━━━━━━━━━━━━━━━━━\u001b[0m\u001b[37m\u001b[0m \u001b[1m2s\u001b[0m 0us/step\n"
          ]
        }
      ]
    },
    {
      "cell_type": "code",
      "source": [
        "X_train = X_train.astype('float32')/255.0\n",
        "X_test = X_test.astype('float32')/255.0"
      ],
      "metadata": {
        "id": "rzhMyFT6DMOE"
      },
      "execution_count": 3,
      "outputs": []
    },
    {
      "cell_type": "code",
      "source": [
        "model = keras.Sequential(\n",
        "    [\n",
        "        keras.Input(shape=(32, 32, 3)),\n",
        "        layers.Conv2D(32, kernel_size=(3, 3), activation=\"relu\"),\n",
        "        layers.MaxPooling2D(pool_size=(2, 2)),\n",
        "        layers.Conv2D(64, kernel_size=(3, 3), activation=\"relu\"),\n",
        "        layers.MaxPooling2D(pool_size=(2, 2)),\n",
        "        layers.Conv2D(128, kernel_size=(3, 3), activation=\"relu\"),\n",
        "        layers.Flatten(),\n",
        "        layers.Dense(10),\n",
        "\n",
        "    ]\n",
        ")\n"
      ],
      "metadata": {
        "id": "IuFRXm7HDe5W"
      },
      "execution_count": 7,
      "outputs": []
    },
    {
      "cell_type": "code",
      "source": [
        "model.compile(\n",
        "    loss=keras.losses.SparseCategoricalCrossentropy(from_logits=True),\n",
        "    optimizer=keras.optimizers.Adam(learning_rate=1e-3),\n",
        "    metrics=['accuracy']\n",
        ")"
      ],
      "metadata": {
        "id": "g-FTRKPwfieS"
      },
      "execution_count": 8,
      "outputs": []
    },
    {
      "cell_type": "code",
      "source": [
        "model.fit(X_train, y_train, batch_size=64, epochs=10, verbose=2)"
      ],
      "metadata": {
        "colab": {
          "base_uri": "https://localhost:8080/"
        },
        "id": "P5AGF5gif9u6",
        "outputId": "ac95246c-6040-4068-98d2-d54c58949f5a"
      },
      "execution_count": 9,
      "outputs": [
        {
          "output_type": "stream",
          "name": "stdout",
          "text": [
            "Epoch 1/10\n",
            "782/782 - 63s - 81ms/step - accuracy: 0.4357 - loss: 1.5538\n",
            "Epoch 2/10\n",
            "782/782 - 85s - 108ms/step - accuracy: 0.5792 - loss: 1.1982\n",
            "Epoch 3/10\n",
            "782/782 - 67s - 86ms/step - accuracy: 0.6427 - loss: 1.0290\n",
            "Epoch 4/10\n",
            "782/782 - 79s - 100ms/step - accuracy: 0.6801 - loss: 0.9193\n",
            "Epoch 5/10\n",
            "782/782 - 85s - 108ms/step - accuracy: 0.7084 - loss: 0.8371\n",
            "Epoch 6/10\n",
            "782/782 - 83s - 106ms/step - accuracy: 0.7354 - loss: 0.7695\n",
            "Epoch 7/10\n",
            "782/782 - 77s - 98ms/step - accuracy: 0.7511 - loss: 0.7185\n",
            "Epoch 8/10\n",
            "782/782 - 81s - 104ms/step - accuracy: 0.7701 - loss: 0.6673\n",
            "Epoch 9/10\n",
            "782/782 - 84s - 108ms/step - accuracy: 0.7833 - loss: 0.6257\n",
            "Epoch 10/10\n",
            "782/782 - 61s - 78ms/step - accuracy: 0.7983 - loss: 0.5822\n"
          ]
        },
        {
          "output_type": "execute_result",
          "data": {
            "text/plain": [
              "<keras.src.callbacks.history.History at 0x7a93e6ba75b0>"
            ]
          },
          "metadata": {},
          "execution_count": 9
        }
      ]
    },
    {
      "cell_type": "code",
      "source": [
        "model.evaluate(X_test, y_test, batch_size=64, verbose=2)"
      ],
      "metadata": {
        "colab": {
          "base_uri": "https://localhost:8080/"
        },
        "id": "FouyxBKwgCzn",
        "outputId": "2f7af2e9-38c0-4801-9c2f-ca7dd79d1ffa"
      },
      "execution_count": 10,
      "outputs": [
        {
          "output_type": "stream",
          "name": "stdout",
          "text": [
            "157/157 - 5s - 33ms/step - accuracy: 0.7140 - loss: 0.8523\n"
          ]
        },
        {
          "output_type": "execute_result",
          "data": {
            "text/plain": [
              "[0.852273166179657, 0.7139999866485596]"
            ]
          },
          "metadata": {},
          "execution_count": 10
        }
      ]
    },
    {
      "cell_type": "code",
      "source": [
        "# Function API\n",
        "\n",
        "def my_model():\n",
        "    inputs = keras.Input(shape=(32, 32, 3,))\n",
        "    x = layers.Conv2D(32, 3)(inputs)\n",
        "    x = layers.BatchNormalization()(x)\n",
        "    x = keras.activations.relu(x)\n",
        "    x = layers.MaxPooling2D()(x)\n",
        "    x = layers.Conv2D(64, 3)(x)\n",
        "    x = layers.BatchNormalization()(x)\n",
        "    x = keras.activations.relu(x)\n",
        "    x = layers.MaxPooling2D()(x)\n",
        "    x = layers.Conv2D(128, 3)(x)\n",
        "    x = layers.BatchNormalization()(x)\n",
        "    x = keras.activations.relu(x)\n",
        "    x = layers.Flatten()(x)\n",
        "    outputs = layers.Dense(10)(x)\n",
        "    model = keras.Model(inputs=inputs, outputs=outputs)\n",
        "    return model"
      ],
      "metadata": {
        "id": "uLvHiMInh6WA"
      },
      "execution_count": 11,
      "outputs": []
    },
    {
      "cell_type": "code",
      "source": [
        "model_fun = my_model()"
      ],
      "metadata": {
        "id": "8EnXBHMQiU_L"
      },
      "execution_count": 12,
      "outputs": []
    },
    {
      "cell_type": "code",
      "source": [
        "model_fun.compile(\n",
        "    loss=keras.losses.SparseCategoricalCrossentropy(from_logits=True),\n",
        "    optimizer=keras.optimizers.Adam(learning_rate=1e-3),\n",
        "    metrics=['accuracy']\n",
        ")"
      ],
      "metadata": {
        "id": "ftlgjICGidrR"
      },
      "execution_count": 13,
      "outputs": []
    },
    {
      "cell_type": "code",
      "source": [
        "model_fun.fit(X_train, y_train, batch_size=64, epochs=10, verbose=2)"
      ],
      "metadata": {
        "colab": {
          "base_uri": "https://localhost:8080/"
        },
        "id": "V0DVpjR-igvI",
        "outputId": "c2f24873-107e-44f9-baa0-cf832b9c3073"
      },
      "execution_count": 14,
      "outputs": [
        {
          "output_type": "stream",
          "name": "stdout",
          "text": [
            "Epoch 1/10\n",
            "782/782 - 94s - 121ms/step - accuracy: 0.5674 - loss: 1.2239\n",
            "Epoch 2/10\n",
            "782/782 - 142s - 181ms/step - accuracy: 0.7001 - loss: 0.8658\n",
            "Epoch 3/10\n",
            "782/782 - 143s - 182ms/step - accuracy: 0.7450 - loss: 0.7366\n",
            "Epoch 4/10\n",
            "782/782 - 143s - 183ms/step - accuracy: 0.7785 - loss: 0.6392\n",
            "Epoch 5/10\n",
            "782/782 - 91s - 117ms/step - accuracy: 0.8031 - loss: 0.5698\n",
            "Epoch 6/10\n",
            "782/782 - 93s - 119ms/step - accuracy: 0.8283 - loss: 0.4987\n",
            "Epoch 7/10\n",
            "782/782 - 141s - 181ms/step - accuracy: 0.8443 - loss: 0.4475\n",
            "Epoch 8/10\n",
            "782/782 - 142s - 181ms/step - accuracy: 0.8644 - loss: 0.3915\n",
            "Epoch 9/10\n",
            "782/782 - 142s - 181ms/step - accuracy: 0.8799 - loss: 0.3524\n",
            "Epoch 10/10\n",
            "782/782 - 137s - 175ms/step - accuracy: 0.8944 - loss: 0.3069\n"
          ]
        },
        {
          "output_type": "execute_result",
          "data": {
            "text/plain": [
              "<keras.src.callbacks.history.History at 0x7a93e6af6800>"
            ]
          },
          "metadata": {},
          "execution_count": 14
        }
      ]
    },
    {
      "cell_type": "code",
      "source": [
        "model_fun.evaluate(X_test, y_test, batch_size=64, verbose=2)"
      ],
      "metadata": {
        "colab": {
          "base_uri": "https://localhost:8080/"
        },
        "id": "PUzG35h2ij9G",
        "outputId": "f6c04f13-83b0-4def-c817-a6196600613f"
      },
      "execution_count": 15,
      "outputs": [
        {
          "output_type": "stream",
          "name": "stdout",
          "text": [
            "157/157 - 4s - 29ms/step - accuracy: 0.7034 - loss: 1.0373\n"
          ]
        },
        {
          "output_type": "execute_result",
          "data": {
            "text/plain": [
              "[1.03726065158844, 0.7034000158309937]"
            ]
          },
          "metadata": {},
          "execution_count": 15
        }
      ]
    },
    {
      "cell_type": "code",
      "source": [],
      "metadata": {
        "id": "D4VYZ0HGs5g0"
      },
      "execution_count": null,
      "outputs": []
    }
  ]
}